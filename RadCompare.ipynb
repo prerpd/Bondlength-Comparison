{
 "cells": [
  {
   "cell_type": "code",
   "execution_count": 4,
   "metadata": {},
   "outputs": [],
   "source": [
    "import numpy as np\n",
    "import pandas as pd\n",
    "import math\n",
    "import os"
   ]
  },
  {
   "cell_type": "code",
   "execution_count": 41,
   "metadata": {},
   "outputs": [],
   "source": [
    "path = os.getcwd()\n",
    "path1 = path + '/AtomicData_RDKIT.csv'\n",
    "path2 = path + '/covalentbonds.csv'\n",
    "path3 = path + '/RCov_Openbabel.csv'\n",
    "path4 = path + '/obdata.csv'\n",
    "rdkitdata = pd.read_csv(path1)\n",
    "cbdata = pd.read_csv(path2)\n",
    "obdata = pd.read_csv(path3)\n",
    "obd2 = pd.read_csv(path4)"
   ]
  },
  {
   "cell_type": "code",
   "execution_count": 7,
   "metadata": {},
   "outputs": [
    {
     "data": {
      "text/html": [
       "<div>\n",
       "<style scoped>\n",
       "    .dataframe tbody tr th:only-of-type {\n",
       "        vertical-align: middle;\n",
       "    }\n",
       "\n",
       "    .dataframe tbody tr th {\n",
       "        vertical-align: top;\n",
       "    }\n",
       "\n",
       "    .dataframe thead th {\n",
       "        text-align: right;\n",
       "    }\n",
       "</style>\n",
       "<table border=\"1\" class=\"dataframe\">\n",
       "  <thead>\n",
       "    <tr style=\"text-align: right;\">\n",
       "      <th></th>\n",
       "      <th>Atomic No</th>\n",
       "      <th>Synbol</th>\n",
       "      <th>RCov</th>\n",
       "      <th>RBO</th>\n",
       "      <th>RVDW</th>\n",
       "      <th>Atomic Mass</th>\n",
       "      <th>Outershell Electrons</th>\n",
       "    </tr>\n",
       "  </thead>\n",
       "  <tbody>\n",
       "    <tr>\n",
       "      <th>0</th>\n",
       "      <td>1</td>\n",
       "      <td>H</td>\n",
       "      <td>0.23</td>\n",
       "      <td>0.33</td>\n",
       "      <td>1.2</td>\n",
       "      <td>1.008</td>\n",
       "      <td>1</td>\n",
       "    </tr>\n",
       "    <tr>\n",
       "      <th>1</th>\n",
       "      <td>2</td>\n",
       "      <td>He</td>\n",
       "      <td>0.93</td>\n",
       "      <td>0.70</td>\n",
       "      <td>1.4</td>\n",
       "      <td>4.003</td>\n",
       "      <td>2</td>\n",
       "    </tr>\n",
       "    <tr>\n",
       "      <th>2</th>\n",
       "      <td>3</td>\n",
       "      <td>Li</td>\n",
       "      <td>0.68</td>\n",
       "      <td>1.23</td>\n",
       "      <td>2.2</td>\n",
       "      <td>6.941</td>\n",
       "      <td>1</td>\n",
       "    </tr>\n",
       "    <tr>\n",
       "      <th>3</th>\n",
       "      <td>4</td>\n",
       "      <td>Be</td>\n",
       "      <td>0.35</td>\n",
       "      <td>0.90</td>\n",
       "      <td>1.9</td>\n",
       "      <td>9.012</td>\n",
       "      <td>2</td>\n",
       "    </tr>\n",
       "    <tr>\n",
       "      <th>4</th>\n",
       "      <td>5</td>\n",
       "      <td>B</td>\n",
       "      <td>0.83</td>\n",
       "      <td>0.82</td>\n",
       "      <td>1.8</td>\n",
       "      <td>10.812</td>\n",
       "      <td>3</td>\n",
       "    </tr>\n",
       "  </tbody>\n",
       "</table>\n",
       "</div>"
      ],
      "text/plain": [
       "   Atomic No Synbol  RCov   RBO  RVDW  Atomic Mass  Outershell Electrons\n",
       "0          1      H  0.23  0.33   1.2        1.008                     1\n",
       "1          2     He  0.93  0.70   1.4        4.003                     2\n",
       "2          3     Li  0.68  1.23   2.2        6.941                     1\n",
       "3          4     Be  0.35  0.90   1.9        9.012                     2\n",
       "4          5      B  0.83  0.82   1.8       10.812                     3"
      ]
     },
     "execution_count": 7,
     "metadata": {},
     "output_type": "execute_result"
    }
   ],
   "source": [
    "rdkitdata.head()"
   ]
  },
  {
   "cell_type": "code",
   "execution_count": 9,
   "metadata": {},
   "outputs": [
    {
     "data": {
      "text/html": [
       "<div>\n",
       "<style scoped>\n",
       "    .dataframe tbody tr th:only-of-type {\n",
       "        vertical-align: middle;\n",
       "    }\n",
       "\n",
       "    .dataframe tbody tr th {\n",
       "        vertical-align: top;\n",
       "    }\n",
       "\n",
       "    .dataframe thead th {\n",
       "        text-align: right;\n",
       "    }\n",
       "</style>\n",
       "<table border=\"1\" class=\"dataframe\">\n",
       "  <thead>\n",
       "    <tr style=\"text-align: right;\">\n",
       "      <th></th>\n",
       "      <th>Atom1</th>\n",
       "      <th>Atom2</th>\n",
       "      <th>Bond_length</th>\n",
       "    </tr>\n",
       "  </thead>\n",
       "  <tbody>\n",
       "    <tr>\n",
       "      <th>0</th>\n",
       "      <td>Ac</td>\n",
       "      <td>O</td>\n",
       "      <td>2.73260</td>\n",
       "    </tr>\n",
       "    <tr>\n",
       "      <th>1</th>\n",
       "      <td>Ac</td>\n",
       "      <td>F</td>\n",
       "      <td>2.58646</td>\n",
       "    </tr>\n",
       "    <tr>\n",
       "      <th>2</th>\n",
       "      <td>Ac</td>\n",
       "      <td>Cl</td>\n",
       "      <td>3.08646</td>\n",
       "    </tr>\n",
       "    <tr>\n",
       "      <th>3</th>\n",
       "      <td>Ac</td>\n",
       "      <td>Br</td>\n",
       "      <td>3.22726</td>\n",
       "    </tr>\n",
       "    <tr>\n",
       "      <th>4</th>\n",
       "      <td>Ag</td>\n",
       "      <td>O</td>\n",
       "      <td>2.81139</td>\n",
       "    </tr>\n",
       "  </tbody>\n",
       "</table>\n",
       "</div>"
      ],
      "text/plain": [
       "  Atom1 Atom2  Bond_length\n",
       "0    Ac     O      2.73260\n",
       "1    Ac     F      2.58646\n",
       "2    Ac    Cl      3.08646\n",
       "3    Ac    Br      3.22726\n",
       "4    Ag     O      2.81139"
      ]
     },
     "execution_count": 9,
     "metadata": {},
     "output_type": "execute_result"
    }
   ],
   "source": [
    "cbdata.head()"
   ]
  },
  {
   "cell_type": "code",
   "execution_count": 46,
   "metadata": {},
   "outputs": [
    {
     "data": {
      "text/html": [
       "<div>\n",
       "<style scoped>\n",
       "    .dataframe tbody tr th:only-of-type {\n",
       "        vertical-align: middle;\n",
       "    }\n",
       "\n",
       "    .dataframe tbody tr th {\n",
       "        vertical-align: top;\n",
       "    }\n",
       "\n",
       "    .dataframe thead th {\n",
       "        text-align: right;\n",
       "    }\n",
       "</style>\n",
       "<table border=\"1\" class=\"dataframe\">\n",
       "  <thead>\n",
       "    <tr style=\"text-align: right;\">\n",
       "      <th></th>\n",
       "      <th>Symbol</th>\n",
       "      <th>Rcov</th>\n",
       "    </tr>\n",
       "  </thead>\n",
       "  <tbody>\n",
       "    <tr>\n",
       "      <th>0</th>\n",
       "      <td>H</td>\n",
       "      <td>0.31</td>\n",
       "    </tr>\n",
       "    <tr>\n",
       "      <th>1</th>\n",
       "      <td>He</td>\n",
       "      <td>0.28</td>\n",
       "    </tr>\n",
       "    <tr>\n",
       "      <th>2</th>\n",
       "      <td>Li</td>\n",
       "      <td>1.28</td>\n",
       "    </tr>\n",
       "    <tr>\n",
       "      <th>3</th>\n",
       "      <td>Be</td>\n",
       "      <td>0.96</td>\n",
       "    </tr>\n",
       "    <tr>\n",
       "      <th>4</th>\n",
       "      <td>B</td>\n",
       "      <td>0.84</td>\n",
       "    </tr>\n",
       "  </tbody>\n",
       "</table>\n",
       "</div>"
      ],
      "text/plain": [
       "  Symbol  Rcov\n",
       "0      H  0.31\n",
       "1     He  0.28\n",
       "2     Li  1.28\n",
       "3     Be  0.96\n",
       "4      B  0.84"
      ]
     },
     "execution_count": 46,
     "metadata": {},
     "output_type": "execute_result"
    }
   ],
   "source": [
    "obdata.head()"
   ]
  },
  {
   "cell_type": "code",
   "execution_count": 17,
   "metadata": {},
   "outputs": [
    {
     "name": "stdout",
     "output_type": "stream",
     "text": [
      "Co O 2.405 2.460 0.055\n",
      "Co N 2.363 2.460 0.097\n",
      "O N 1.817 1.810 0.007\n",
      "O Cu 2.473 2.650 0.177\n",
      "N Cu 2.493 2.650 0.157\n"
     ]
    }
   ],
   "source": [
    "atom_list = ['Co', 'O', 'N', 'Cu']\n",
    "skin = 0.45\n",
    "for i, atom1 in enumerate(atom_list):\n",
    "    for atom2 in atom_list[i+1:]:\n",
    "        if len(cbdata[((cbdata['Atom1'] == atom1) & (cbdata['Atom2'] == atom2) | (cbdata['Atom1'] == atom2) & (cbdata['Atom2'] == atom1))].index) !=0:\n",
    "            BL_rd = cbdata.iloc[cbdata[((cbdata['Atom1'] == atom1) & (cbdata['Atom2'] == atom2) | (cbdata['Atom1'] == atom2) & (cbdata['Atom2'] == atom1))].index[0]]['Bond_length']\n",
    "            #print(atom1, atom2, bondlength)\n",
    "            rcov1 = rdkitdata.iloc[rdkitdata[(rdkitdata['Synbol'] == atom1)].index[0]]['RCov']\n",
    "            rcov2 = rdkitdata.iloc[rdkitdata[(rdkitdata['Synbol'] == atom2)].index[0]]['RCov']\n",
    "            BL_cb = rcov1 + rcov2 + skin\n",
    "            diff = abs(BL_rd - BL_cb)\n",
    "            print(atom1, atom2, \"{:.3f}\".format(BL_rd), \"{:.3f}\".format(BL_cb), \"{:.3f}\".format(diff))#%.4f%(BL_rd), %.4f%(BL_cb), %.4f%(diff))\n",
    "            \n",
    "            "
   ]
  },
  {
   "cell_type": "code",
   "execution_count": 30,
   "metadata": {},
   "outputs": [],
   "source": [
    "atom1list = list(cbdata['Atom1'])\n",
    "atom2list = list(cbdata['Atom2'])"
   ]
  },
  {
   "cell_type": "code",
   "execution_count": 49,
   "metadata": {},
   "outputs": [],
   "source": [
    "atom1 = 'D'\n",
    "#rdkitdata['Synbol'].str.contains(atom1)\n",
    "if 'D' in rdkitdata['Synbol'].values:\n",
    "    print('yes')"
   ]
  },
  {
   "cell_type": "code",
   "execution_count": 35,
   "metadata": {},
   "outputs": [
    {
     "name": "stdout",
     "output_type": "stream",
     "text": [
      "Ac O\n"
     ]
    },
    {
     "ename": "NameError",
     "evalue": "name 'skin' is not defined",
     "output_type": "error",
     "traceback": [
      "\u001b[0;31m---------------------------------------------------------------------------\u001b[0m",
      "\u001b[0;31mNameError\u001b[0m                                 Traceback (most recent call last)",
      "\u001b[0;32m<ipython-input-35-b08bbb7a4404>\u001b[0m in \u001b[0;36m<module>\u001b[0;34m\u001b[0m\n\u001b[1;32m     11\u001b[0m             \u001b[0mrcov1\u001b[0m \u001b[0;34m=\u001b[0m \u001b[0mrdkitdata\u001b[0m\u001b[0;34m.\u001b[0m\u001b[0miloc\u001b[0m\u001b[0;34m[\u001b[0m\u001b[0mrdkitdata\u001b[0m\u001b[0;34m[\u001b[0m\u001b[0;34m(\u001b[0m\u001b[0mrdkitdata\u001b[0m\u001b[0;34m[\u001b[0m\u001b[0;34m'Synbol'\u001b[0m\u001b[0;34m]\u001b[0m \u001b[0;34m==\u001b[0m \u001b[0matom1\u001b[0m\u001b[0;34m)\u001b[0m\u001b[0;34m]\u001b[0m\u001b[0;34m.\u001b[0m\u001b[0mindex\u001b[0m\u001b[0;34m[\u001b[0m\u001b[0;36m0\u001b[0m\u001b[0;34m]\u001b[0m\u001b[0;34m]\u001b[0m\u001b[0;34m[\u001b[0m\u001b[0;34m'RCov'\u001b[0m\u001b[0;34m]\u001b[0m\u001b[0;34m\u001b[0m\u001b[0;34m\u001b[0m\u001b[0m\n\u001b[1;32m     12\u001b[0m             \u001b[0mrcov2\u001b[0m \u001b[0;34m=\u001b[0m \u001b[0mrdkitdata\u001b[0m\u001b[0;34m.\u001b[0m\u001b[0miloc\u001b[0m\u001b[0;34m[\u001b[0m\u001b[0mrdkitdata\u001b[0m\u001b[0;34m[\u001b[0m\u001b[0;34m(\u001b[0m\u001b[0mrdkitdata\u001b[0m\u001b[0;34m[\u001b[0m\u001b[0;34m'Synbol'\u001b[0m\u001b[0;34m]\u001b[0m \u001b[0;34m==\u001b[0m \u001b[0matom2\u001b[0m\u001b[0;34m)\u001b[0m\u001b[0;34m]\u001b[0m\u001b[0;34m.\u001b[0m\u001b[0mindex\u001b[0m\u001b[0;34m[\u001b[0m\u001b[0;36m0\u001b[0m\u001b[0;34m]\u001b[0m\u001b[0;34m]\u001b[0m\u001b[0;34m[\u001b[0m\u001b[0;34m'RCov'\u001b[0m\u001b[0;34m]\u001b[0m\u001b[0;34m\u001b[0m\u001b[0;34m\u001b[0m\u001b[0m\n\u001b[0;32m---> 13\u001b[0;31m             \u001b[0mBL_skin\u001b[0m \u001b[0;34m=\u001b[0m \u001b[0mrcov1\u001b[0m \u001b[0;34m+\u001b[0m \u001b[0mrcov2\u001b[0m \u001b[0;34m+\u001b[0m \u001b[0mskin\u001b[0m\u001b[0;34m\u001b[0m\u001b[0;34m\u001b[0m\u001b[0m\n\u001b[0m\u001b[1;32m     14\u001b[0m             \u001b[0mBL_without_skin\u001b[0m \u001b[0;34m=\u001b[0m \u001b[0mrcov1\u001b[0m \u001b[0;34m+\u001b[0m \u001b[0mrcov2\u001b[0m\u001b[0;34m\u001b[0m\u001b[0;34m\u001b[0m\u001b[0m\n\u001b[1;32m     15\u001b[0m             \u001b[0mdiff_skin\u001b[0m \u001b[0;34m=\u001b[0m \u001b[0mBL_rd\u001b[0m \u001b[0;34m-\u001b[0m \u001b[0mBL_skin\u001b[0m\u001b[0;34m\u001b[0m\u001b[0;34m\u001b[0m\u001b[0m\n",
      "\u001b[0;31mNameError\u001b[0m: name 'skin' is not defined"
     ]
    }
   ],
   "source": [
    "RadComp = []\n",
    "for atom1, atom2 in zip(atom1list, atom2list):\n",
    "    if len(cbdata[((cbdata['Atom1'] == atom1) & (cbdata['Atom2'] == atom2) | (cbdata['Atom1'] == atom2) & (cbdata['Atom2'] == atom1))].index) !=0:\n",
    "        BL_rd = cbdata.iloc[cbdata[((cbdata['Atom1'] == atom1) & (cbdata['Atom2'] == atom2) | (cbdata['Atom1'] == atom2) & (cbdata['Atom2'] == atom1))].index[0]]['Bond_length']\n",
    "        #print(atom1, atom2, bondlength)\n",
    "        print(atom1, atom2)\n",
    "        #print('here')\n",
    "        #if ((rdkitdata['Synbol'].str.contains(atom1).any()) and (rdkitdata['Synbol'].str.contains(atom2).any())):\n",
    "        if ((atom1 in rdkitdata['Synbol'].values) and (atom2 in rdkitdata['Synbol'].values)):\n",
    "            #print('in loop')\n",
    "            rcov1 = rdkitdata.iloc[rdkitdata[(rdkitdata['Synbol'] == atom1)].index[0]]['RCov']\n",
    "            rcov2 = rdkitdata.iloc[rdkitdata[(rdkitdata['Synbol'] == atom2)].index[0]]['RCov']\n",
    "            BL_skin = rcov1 + rcov2 + skin\n",
    "            BL_without_skin = rcov1 + rcov2\n",
    "            diff_skin = BL_rd - BL_skin\n",
    "            diff_without_skin = BL_rd - BL_without_skin\n",
    "            data = []\n",
    "            data.append(atom1)\n",
    "            data.append(atom2)\n",
    "            data.append(round(rcov1, 4))\n",
    "            data.append(round(rcov2, 4))\n",
    "            data.append(round(BL_rd, 4))\n",
    "            data.append(round(diff_skin, 4))\n",
    "            data.append(round(diff_without_skin, 4))\n",
    "            #data.append(round(diff, 4))\n",
    "            #data.append('%.3f'%(BL_rd))\n",
    "            #data.append('%.3f'%(BL_cb))\n",
    "            #data.append('%.3f'%(diff))\n",
    "            #print(data)\n",
    "            #print(atom1, atom2, \"{:.3f}\".format(BL_rd), \"{:.3f}\".format(BL_cb), \"{:.3f}\".format(diff))\n",
    "            RadComp.append(data)\n",
    "            del data"
   ]
  },
  {
   "cell_type": "code",
   "execution_count": 21,
   "metadata": {
    "collapsed": true,
    "jupyter": {
     "outputs_hidden": true
    }
   },
   "outputs": [
    {
     "name": "stdout",
     "output_type": "stream",
     "text": [
      "He -0.65\n",
      "Li 0.6\n",
      "Be 0.61\n",
      "Ne -0.54\n",
      "Na 0.69\n",
      "Mg 0.31\n",
      "Al -0.14\n",
      "P 0.32\n",
      "Ar -0.51\n",
      "K 0.7\n",
      "Ca 0.77\n",
      "Sc 0.26\n",
      "Ti 0.13\n",
      "V 0.2\n",
      "Ni -0.26\n",
      "Cu -0.2\n",
      "Zn -0.23\n",
      "Kr -0.75\n",
      "Rb 0.73\n",
      "Sr 0.83\n",
      "Y 0.12\n",
      "Zr 0.19\n",
      "Nb 0.16\n",
      "Tc 0.12\n",
      "Pd -0.11\n",
      "Ag -0.14\n",
      "Cd -0.25\n",
      "In -0.21\n",
      "Xe -0.58\n",
      "Cs 0.77\n",
      "Ba 0.81\n",
      "La 0.2\n",
      "Ce 0.21\n",
      "Pr 0.21\n",
      "Nd 0.2\n",
      "Pm 0.19\n",
      "Sm 0.18\n",
      "Gd 0.17\n",
      "Tb 0.18\n",
      "Dy 0.17\n",
      "Ho 0.18\n",
      "Er 0.16\n",
      "Tm 0.18\n",
      "Lu 0.15\n",
      "Hf 0.18\n",
      "Ta 0.27\n",
      "W 0.25\n",
      "Re 0.16\n",
      "Pt -0.14\n",
      "Au -0.14\n",
      "Hg -0.38\n",
      "Tl -0.1\n",
      "Po -0.28\n",
      "At -0.2\n",
      "Rn -0.9\n",
      "Fr 0.6\n",
      "Ra 0.31\n",
      "Ac 0.27\n",
      "Th 0.27\n",
      "Pa 0.39\n",
      "U 0.38\n",
      "Np 0.35\n",
      "Pu 0.34\n",
      "Am 0.29\n",
      "Cm 0.19\n",
      "Bk 0.1\n",
      "Cf 0.1\n",
      "Es 0.1\n",
      "Fm 0.1\n",
      "Md 0.1\n",
      "No 0.1\n",
      "Lr 0.1\n",
      "Db 0.11\n",
      "Sg 0.17\n",
      "Bh 0.19\n",
      "Hs 0.26\n",
      "Mt 0.31\n",
      "Ds 0.32\n",
      "Rg 0.39\n",
      "Cn 0.38\n",
      "Nh 0.24\n",
      "Fl 0.17\n",
      "Lv -0.15\n"
     ]
    }
   ],
   "source": [
    "for atom, rcov in zip(rdkitdata['Synbol'], rdkitdata['RCov']):\n",
    "    #print(atom)\n",
    "    Rcov_ob = obdata.iloc[obdata[(obdata['Symbol'] == atom)].index[0]]['Rcov']\n",
    "    diff = (Rcov_ob - rcov)\n",
    "    if diff > 0.1 or diff < -0.1:\n",
    "        print(atom, round(diff,4))"
   ]
  },
  {
   "cell_type": "code",
   "execution_count": 45,
   "metadata": {},
   "outputs": [
    {
     "name": "stdout",
     "output_type": "stream",
     "text": [
      "['H  ' 'He ' 'Li ' 'Be ' 'B  ' 'C  ' 'N  ' 'O  ' 'F  ' 'Ne ' 'Na ' 'Mg '\n",
      " 'Al ' 'Si ' 'P  ' 'S  ' 'Cl ' 'Ar ' 'K  ' 'Ca ' 'Sc ' 'Ti ' 'V  ' 'Cr '\n",
      " 'Mn ' 'Fe ' 'Co ' 'Ni ' 'Cu ' 'Zn ' 'Ga ' 'Ge ' 'As ' 'Se ' 'Br ' 'Kr '\n",
      " 'Rb ' 'Sr ' 'Y  ' 'Zr ' 'Nb ' 'Mo ' 'Tc ' 'Ru ' 'Rh ' 'Pd ' 'Ag ' 'Cd '\n",
      " 'In ' 'Sn ' 'Sb ' 'Te ' 'I  ' 'Xe ' 'Cs ' 'Ba ' 'La ' 'Ce ' 'Pr ' 'Nd '\n",
      " 'Pm ' 'Sm ' 'Eu ' 'Gd ' 'Tb ' 'Dy ' 'Ho ' 'Er ' 'Tm ' 'Yb ' 'Lu ' 'Hf '\n",
      " 'Ta ' 'W  ' 'Re ' 'Os ' 'Ir ' 'Pt ' 'Au ' 'Hg ' 'Tl ' 'Pb ' 'Bi ' 'Po '\n",
      " 'At ' 'Rn ' 'Fr ' 'Ra ' 'Ac ' 'Th ' 'Pa ' 'U  ' 'Np ' 'Pu ' 'Am ' 'Cm '\n",
      " 'Bk ' 'Cf ' 'Es ' 'Fm ' 'Md ' 'No ' 'Lr ' 'Rf ' 'Db ' 'Sg ' 'Bh ' 'Hs '\n",
      " 'Mt ' 'Ds ' 'Rg ' 'Cn ' 'Nh ' 'Fl ' 'Mc ' 'Lv ' 'Ts ' 'Og ']\n"
     ]
    }
   ],
   "source": [
    "print(obd2['Symbol'].values)"
   ]
  },
  {
   "cell_type": "code",
   "execution_count": null,
   "metadata": {},
   "outputs": [],
   "source": []
  },
  {
   "cell_type": "code",
   "execution_count": 48,
   "metadata": {},
   "outputs": [],
   "source": [
    "RadComp = []\n",
    "skin = 0.45\n",
    "for atom1, atom2 in zip(atom1list, atom2list):\n",
    "    if len(cbdata[((cbdata['Atom1'] == atom1) & (cbdata['Atom2'] == atom2) | (cbdata['Atom1'] == atom2) & (cbdata['Atom2'] == atom1))].index) !=0:\n",
    "        BL_rd = cbdata.iloc[cbdata[((cbdata['Atom1'] == atom1) & (cbdata['Atom2'] == atom2) | (cbdata['Atom1'] == atom2) & (cbdata['Atom2'] == atom1))].index[0]]['Bond_length']\n",
    "        #print(atom1, atom2, bondlength)\n",
    "        #print(atom1, atom2)\n",
    "        #print('here')\n",
    "        #if ((obd2['Synbol'].str.contains(atom1).any()) and (obd2['Synbol'].str.contains(atom2).any())):\n",
    "        if ((atom1 in obdata['Symbol'].values) and (atom2 in obdata['Symbol'].values)):\n",
    "            #print('in loop')\n",
    "            rcov1 = obdata.iloc[obdata[(obdata['Symbol'] == atom1)].index[0]]['Rcov']\n",
    "            rcov2 = obdata.iloc[obdata[(obdata['Symbol'] == atom2)].index[0]]['Rcov']\n",
    "            BL_skin = rcov1 + rcov2 + skin\n",
    "            BL_without_skin = rcov1 + rcov2\n",
    "            diff_skin = BL_rd - BL_skin\n",
    "            diff_without_skin = BL_rd - BL_without_skin\n",
    "            data = []\n",
    "            data.append(atom1)\n",
    "            data.append(atom2)\n",
    "            data.append(round(rcov1, 4))\n",
    "            data.append(round(rcov2, 4))\n",
    "            data.append(round(BL_rd, 4))\n",
    "            data.append(round(diff_skin, 4))\n",
    "            data.append(round(diff_without_skin, 4))\n",
    "            #data.append(round(diff, 4))\n",
    "            #data.append('%.3f'%(BL_rd))\n",
    "            #data.append('%.3f'%(BL_cb))\n",
    "            #data.append('%.3f'%(diff))\n",
    "            #print(data)\n",
    "            #print(atom1, atom2, \"{:.3f}\".format(BL_rd), \"{:.3f}\".format(BL_cb), \"{:.3f}\".format(diff))\n",
    "            RadComp.append(data)\n",
    "            del data"
   ]
  },
  {
   "cell_type": "code",
   "execution_count": null,
   "metadata": {},
   "outputs": [],
   "source": []
  },
  {
   "cell_type": "code",
   "execution_count": 49,
   "metadata": {},
   "outputs": [
    {
     "name": "stdout",
     "output_type": "stream",
     "text": [
      "[['Ac' 'O' '2.15' ... '2.7326' '-0.5274' '-0.0774']\n",
      " ['Ac' 'F' '2.15' ... '2.5865' '-0.5835' '-0.1335']\n",
      " ['Ac' 'Cl' '2.15' ... '3.0865' '-0.5335' '-0.0835']\n",
      " ...\n",
      " ['Zr' 'P' '1.75' ... '3.02' '-0.25' '0.2']\n",
      " ['Zr' 'As' '1.75' ... '3.07' '-0.32' '0.13']\n",
      " ['Zr' 'H' '1.75' ... '2.29' '-0.22' '0.23']]\n"
     ]
    }
   ],
   "source": [
    "rc = np.asarray(RadComp)\n",
    "print(rc)\n",
    "np.savetxt('bond_comparisoN2.csv', rc,fmt='%s', delimiter=',', header='Atom1,Atom2,Rcov1,Rcov2,Covalent,DiffSkin,DiffWithoutSkin')"
   ]
  },
  {
   "cell_type": "code",
   "execution_count": 78,
   "metadata": {},
   "outputs": [
    {
     "name": "stdout",
     "output_type": "stream",
     "text": [
      "1.3094\n"
     ]
    }
   ],
   "source": [
    "\n",
    "rc = np.array(RadComp)\n",
    "print(max(rc[:, 4]))\n",
    "#print(np.max(rc[:, 4], axis=1))"
   ]
  },
  {
   "cell_type": "code",
   "execution_count": null,
   "metadata": {},
   "outputs": [],
   "source": []
  },
  {
   "cell_type": "code",
   "execution_count": null,
   "metadata": {},
   "outputs": [],
   "source": [
    "a = [1, 2, 3]\n",
    "b = [5, 6, 7]\n",
    "for i, j in zip(a, b):\n",
    "    print(i, j)"
   ]
  }
 ],
 "metadata": {
  "kernelspec": {
   "display_name": "Python 3",
   "language": "python",
   "name": "python3"
  },
  "language_info": {
   "codemirror_mode": {
    "name": "ipython",
    "version": 3
   },
   "file_extension": ".py",
   "mimetype": "text/x-python",
   "name": "python",
   "nbconvert_exporter": "python",
   "pygments_lexer": "ipython3",
   "version": "3.7.6"
  }
 },
 "nbformat": 4,
 "nbformat_minor": 4
}
